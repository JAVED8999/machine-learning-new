{
 "cells": [
  {
   "cell_type": "code",
   "execution_count": 1,
   "id": "57165c21",
   "metadata": {},
   "outputs": [],
   "source": [
    "import os\n",
    "import random\n",
    "import numpy as np\n",
    "import pandas as pd\n",
    "import matplotlib.pyplot as plt\n",
    "\n",
    "from sklearn.metrics import plot_confusion_matrix\n",
    "from sklearn.preprocessing import LabelEncoder\n",
    "from sklearn.model_selection import train_test_split\n",
    "from sklearn.feature_extraction.text import CountVectorizer\n",
    "from sklearn.naive_bayes import MultinomialNB\n",
    "from sklearn.dummy import DummyClassifier\n"
   ]
  },
  {
   "cell_type": "code",
   "execution_count": 2,
   "id": "c2448884",
   "metadata": {},
   "outputs": [],
   "source": [
    "df=pd.read_csv(r\"C:/Users/YA MAALIKUL MULK/Downloads/Email_SPAM/SPAM text message 20170820 - Data.csv\")\n",
    "\n"
   ]
  },
  {
   "cell_type": "code",
   "execution_count": 3,
   "id": "8ce64cdd",
   "metadata": {},
   "outputs": [
    {
     "data": {
      "text/plain": [
       "(5572, 2)"
      ]
     },
     "execution_count": 3,
     "metadata": {},
     "output_type": "execute_result"
    }
   ],
   "source": [
    "df.shape"
   ]
  },
  {
   "cell_type": "code",
   "execution_count": 4,
   "id": "21524e3b",
   "metadata": {},
   "outputs": [
    {
     "data": {
      "text/html": [
       "<div>\n",
       "<style scoped>\n",
       "    .dataframe tbody tr th:only-of-type {\n",
       "        vertical-align: middle;\n",
       "    }\n",
       "\n",
       "    .dataframe tbody tr th {\n",
       "        vertical-align: top;\n",
       "    }\n",
       "\n",
       "    .dataframe thead th {\n",
       "        text-align: right;\n",
       "    }\n",
       "</style>\n",
       "<table border=\"1\" class=\"dataframe\">\n",
       "  <thead>\n",
       "    <tr style=\"text-align: right;\">\n",
       "      <th></th>\n",
       "      <th>Category</th>\n",
       "      <th>Message</th>\n",
       "    </tr>\n",
       "  </thead>\n",
       "  <tbody>\n",
       "    <tr>\n",
       "      <th>count</th>\n",
       "      <td>5572</td>\n",
       "      <td>5572</td>\n",
       "    </tr>\n",
       "    <tr>\n",
       "      <th>unique</th>\n",
       "      <td>2</td>\n",
       "      <td>5157</td>\n",
       "    </tr>\n",
       "    <tr>\n",
       "      <th>top</th>\n",
       "      <td>ham</td>\n",
       "      <td>Sorry, I'll call later</td>\n",
       "    </tr>\n",
       "    <tr>\n",
       "      <th>freq</th>\n",
       "      <td>4825</td>\n",
       "      <td>30</td>\n",
       "    </tr>\n",
       "  </tbody>\n",
       "</table>\n",
       "</div>"
      ],
      "text/plain": [
       "       Category                 Message\n",
       "count      5572                    5572\n",
       "unique        2                    5157\n",
       "top         ham  Sorry, I'll call later\n",
       "freq       4825                      30"
      ]
     },
     "execution_count": 4,
     "metadata": {},
     "output_type": "execute_result"
    }
   ],
   "source": [
    "df.describe()"
   ]
  },
  {
   "cell_type": "code",
   "execution_count": 5,
   "id": "f29b7e38",
   "metadata": {},
   "outputs": [
    {
     "data": {
      "text/html": [
       "<div>\n",
       "<style scoped>\n",
       "    .dataframe tbody tr th:only-of-type {\n",
       "        vertical-align: middle;\n",
       "    }\n",
       "\n",
       "    .dataframe tbody tr th {\n",
       "        vertical-align: top;\n",
       "    }\n",
       "\n",
       "    .dataframe thead th {\n",
       "        text-align: right;\n",
       "    }\n",
       "</style>\n",
       "<table border=\"1\" class=\"dataframe\">\n",
       "  <thead>\n",
       "    <tr style=\"text-align: right;\">\n",
       "      <th></th>\n",
       "      <th>0</th>\n",
       "      <th>1</th>\n",
       "      <th>2</th>\n",
       "      <th>3</th>\n",
       "      <th>4</th>\n",
       "      <th>5</th>\n",
       "      <th>6</th>\n",
       "      <th>7</th>\n",
       "      <th>8</th>\n",
       "      <th>9</th>\n",
       "      <th>...</th>\n",
       "      <th>5562</th>\n",
       "      <th>5563</th>\n",
       "      <th>5564</th>\n",
       "      <th>5565</th>\n",
       "      <th>5566</th>\n",
       "      <th>5567</th>\n",
       "      <th>5568</th>\n",
       "      <th>5569</th>\n",
       "      <th>5570</th>\n",
       "      <th>5571</th>\n",
       "    </tr>\n",
       "  </thead>\n",
       "  <tbody>\n",
       "    <tr>\n",
       "      <th>Category</th>\n",
       "      <td>ham</td>\n",
       "      <td>ham</td>\n",
       "      <td>spam</td>\n",
       "      <td>ham</td>\n",
       "      <td>ham</td>\n",
       "      <td>spam</td>\n",
       "      <td>ham</td>\n",
       "      <td>ham</td>\n",
       "      <td>spam</td>\n",
       "      <td>spam</td>\n",
       "      <td>...</td>\n",
       "      <td>ham</td>\n",
       "      <td>ham</td>\n",
       "      <td>ham</td>\n",
       "      <td>ham</td>\n",
       "      <td>spam</td>\n",
       "      <td>spam</td>\n",
       "      <td>ham</td>\n",
       "      <td>ham</td>\n",
       "      <td>ham</td>\n",
       "      <td>ham</td>\n",
       "    </tr>\n",
       "    <tr>\n",
       "      <th>Message</th>\n",
       "      <td>Go until jurong point, crazy.. Available only ...</td>\n",
       "      <td>Ok lar... Joking wif u oni...</td>\n",
       "      <td>Free entry in 2 a wkly comp to win FA Cup fina...</td>\n",
       "      <td>U dun say so early hor... U c already then say...</td>\n",
       "      <td>Nah I don't think he goes to usf, he lives aro...</td>\n",
       "      <td>FreeMsg Hey there darling it's been 3 week's n...</td>\n",
       "      <td>Even my brother is not like to speak with me. ...</td>\n",
       "      <td>As per your request 'Melle Melle (Oru Minnamin...</td>\n",
       "      <td>WINNER!! As a valued network customer you have...</td>\n",
       "      <td>Had your mobile 11 months or more? U R entitle...</td>\n",
       "      <td>...</td>\n",
       "      <td>Ok lor... Sony ericsson salesman... I ask shuh...</td>\n",
       "      <td>Ard 6 like dat lor.</td>\n",
       "      <td>Why don't you wait 'til at least wednesday to ...</td>\n",
       "      <td>Huh y lei...</td>\n",
       "      <td>REMINDER FROM O2: To get 2.50 pounds free call...</td>\n",
       "      <td>This is the 2nd time we have tried 2 contact u...</td>\n",
       "      <td>Will ü b going to esplanade fr home?</td>\n",
       "      <td>Pity, * was in mood for that. So...any other s...</td>\n",
       "      <td>The guy did some bitching but I acted like i'd...</td>\n",
       "      <td>Rofl. Its true to its name</td>\n",
       "    </tr>\n",
       "  </tbody>\n",
       "</table>\n",
       "<p>2 rows × 5572 columns</p>\n",
       "</div>"
      ],
      "text/plain": [
       "                                                       0     \\\n",
       "Category                                                ham   \n",
       "Message   Go until jurong point, crazy.. Available only ...   \n",
       "\n",
       "                                   1     \\\n",
       "Category                            ham   \n",
       "Message   Ok lar... Joking wif u oni...   \n",
       "\n",
       "                                                       2     \\\n",
       "Category                                               spam   \n",
       "Message   Free entry in 2 a wkly comp to win FA Cup fina...   \n",
       "\n",
       "                                                       3     \\\n",
       "Category                                                ham   \n",
       "Message   U dun say so early hor... U c already then say...   \n",
       "\n",
       "                                                       4     \\\n",
       "Category                                                ham   \n",
       "Message   Nah I don't think he goes to usf, he lives aro...   \n",
       "\n",
       "                                                       5     \\\n",
       "Category                                               spam   \n",
       "Message   FreeMsg Hey there darling it's been 3 week's n...   \n",
       "\n",
       "                                                       6     \\\n",
       "Category                                                ham   \n",
       "Message   Even my brother is not like to speak with me. ...   \n",
       "\n",
       "                                                       7     \\\n",
       "Category                                                ham   \n",
       "Message   As per your request 'Melle Melle (Oru Minnamin...   \n",
       "\n",
       "                                                       8     \\\n",
       "Category                                               spam   \n",
       "Message   WINNER!! As a valued network customer you have...   \n",
       "\n",
       "                                                       9     ...  \\\n",
       "Category                                               spam  ...   \n",
       "Message   Had your mobile 11 months or more? U R entitle...  ...   \n",
       "\n",
       "                                                       5562  \\\n",
       "Category                                                ham   \n",
       "Message   Ok lor... Sony ericsson salesman... I ask shuh...   \n",
       "\n",
       "                         5563  \\\n",
       "Category                  ham   \n",
       "Message   Ard 6 like dat lor.   \n",
       "\n",
       "                                                       5564          5565  \\\n",
       "Category                                                ham           ham   \n",
       "Message   Why don't you wait 'til at least wednesday to ...  Huh y lei...   \n",
       "\n",
       "                                                       5566  \\\n",
       "Category                                               spam   \n",
       "Message   REMINDER FROM O2: To get 2.50 pounds free call...   \n",
       "\n",
       "                                                       5567  \\\n",
       "Category                                               spam   \n",
       "Message   This is the 2nd time we have tried 2 contact u...   \n",
       "\n",
       "                                          5568  \\\n",
       "Category                                   ham   \n",
       "Message   Will ü b going to esplanade fr home?   \n",
       "\n",
       "                                                       5569  \\\n",
       "Category                                                ham   \n",
       "Message   Pity, * was in mood for that. So...any other s...   \n",
       "\n",
       "                                                       5570  \\\n",
       "Category                                                ham   \n",
       "Message   The guy did some bitching but I acted like i'd...   \n",
       "\n",
       "                                5571  \n",
       "Category                         ham  \n",
       "Message   Rofl. Its true to its name  \n",
       "\n",
       "[2 rows x 5572 columns]"
      ]
     },
     "execution_count": 5,
     "metadata": {},
     "output_type": "execute_result"
    }
   ],
   "source": [
    "df.transpose()"
   ]
  },
  {
   "cell_type": "code",
   "execution_count": 6,
   "id": "0d65d92b",
   "metadata": {},
   "outputs": [
    {
     "data": {
      "text/html": [
       "<div>\n",
       "<style scoped>\n",
       "    .dataframe tbody tr th:only-of-type {\n",
       "        vertical-align: middle;\n",
       "    }\n",
       "\n",
       "    .dataframe tbody tr th {\n",
       "        vertical-align: top;\n",
       "    }\n",
       "\n",
       "    .dataframe thead th {\n",
       "        text-align: right;\n",
       "    }\n",
       "</style>\n",
       "<table border=\"1\" class=\"dataframe\">\n",
       "  <thead>\n",
       "    <tr style=\"text-align: right;\">\n",
       "      <th></th>\n",
       "      <th>Category</th>\n",
       "      <th>Message</th>\n",
       "    </tr>\n",
       "  </thead>\n",
       "  <tbody>\n",
       "    <tr>\n",
       "      <th>0</th>\n",
       "      <td>ham</td>\n",
       "      <td>Go until jurong point, crazy.. Available only ...</td>\n",
       "    </tr>\n",
       "    <tr>\n",
       "      <th>1</th>\n",
       "      <td>ham</td>\n",
       "      <td>Ok lar... Joking wif u oni...</td>\n",
       "    </tr>\n",
       "    <tr>\n",
       "      <th>2</th>\n",
       "      <td>spam</td>\n",
       "      <td>Free entry in 2 a wkly comp to win FA Cup fina...</td>\n",
       "    </tr>\n",
       "    <tr>\n",
       "      <th>3</th>\n",
       "      <td>ham</td>\n",
       "      <td>U dun say so early hor... U c already then say...</td>\n",
       "    </tr>\n",
       "    <tr>\n",
       "      <th>4</th>\n",
       "      <td>ham</td>\n",
       "      <td>Nah I don't think he goes to usf, he lives aro...</td>\n",
       "    </tr>\n",
       "  </tbody>\n",
       "</table>\n",
       "</div>"
      ],
      "text/plain": [
       "  Category                                            Message\n",
       "0      ham  Go until jurong point, crazy.. Available only ...\n",
       "1      ham                      Ok lar... Joking wif u oni...\n",
       "2     spam  Free entry in 2 a wkly comp to win FA Cup fina...\n",
       "3      ham  U dun say so early hor... U c already then say...\n",
       "4      ham  Nah I don't think he goes to usf, he lives aro..."
      ]
     },
     "execution_count": 6,
     "metadata": {},
     "output_type": "execute_result"
    }
   ],
   "source": [
    "df.head()"
   ]
  },
  {
   "cell_type": "code",
   "execution_count": 7,
   "id": "cef4897f",
   "metadata": {},
   "outputs": [
    {
     "data": {
      "text/html": [
       "<div>\n",
       "<style scoped>\n",
       "    .dataframe tbody tr th:only-of-type {\n",
       "        vertical-align: middle;\n",
       "    }\n",
       "\n",
       "    .dataframe tbody tr th {\n",
       "        vertical-align: top;\n",
       "    }\n",
       "\n",
       "    .dataframe thead th {\n",
       "        text-align: right;\n",
       "    }\n",
       "</style>\n",
       "<table border=\"1\" class=\"dataframe\">\n",
       "  <thead>\n",
       "    <tr style=\"text-align: right;\">\n",
       "      <th></th>\n",
       "      <th>Category</th>\n",
       "      <th>Message</th>\n",
       "    </tr>\n",
       "  </thead>\n",
       "  <tbody>\n",
       "    <tr>\n",
       "      <th>5567</th>\n",
       "      <td>spam</td>\n",
       "      <td>This is the 2nd time we have tried 2 contact u...</td>\n",
       "    </tr>\n",
       "    <tr>\n",
       "      <th>5568</th>\n",
       "      <td>ham</td>\n",
       "      <td>Will ü b going to esplanade fr home?</td>\n",
       "    </tr>\n",
       "    <tr>\n",
       "      <th>5569</th>\n",
       "      <td>ham</td>\n",
       "      <td>Pity, * was in mood for that. So...any other s...</td>\n",
       "    </tr>\n",
       "    <tr>\n",
       "      <th>5570</th>\n",
       "      <td>ham</td>\n",
       "      <td>The guy did some bitching but I acted like i'd...</td>\n",
       "    </tr>\n",
       "    <tr>\n",
       "      <th>5571</th>\n",
       "      <td>ham</td>\n",
       "      <td>Rofl. Its true to its name</td>\n",
       "    </tr>\n",
       "  </tbody>\n",
       "</table>\n",
       "</div>"
      ],
      "text/plain": [
       "     Category                                            Message\n",
       "5567     spam  This is the 2nd time we have tried 2 contact u...\n",
       "5568      ham               Will ü b going to esplanade fr home?\n",
       "5569      ham  Pity, * was in mood for that. So...any other s...\n",
       "5570      ham  The guy did some bitching but I acted like i'd...\n",
       "5571      ham                         Rofl. Its true to its name"
      ]
     },
     "execution_count": 7,
     "metadata": {},
     "output_type": "execute_result"
    }
   ],
   "source": [
    "df.tail()"
   ]
  },
  {
   "cell_type": "code",
   "execution_count": 8,
   "id": "2e21971e",
   "metadata": {},
   "outputs": [
    {
     "name": "stdout",
     "output_type": "stream",
     "text": [
      "How many of each label do we have?\n",
      "ham     4825\n",
      "spam     747\n",
      "Name: Category, dtype: int64\n"
     ]
    }
   ],
   "source": [
    "print(\"How many of each label do we have?\")\n",
    "print(df['Category'].value_counts())\n",
    "\n"
   ]
  },
  {
   "cell_type": "code",
   "execution_count": 9,
   "id": "6b956c8e",
   "metadata": {},
   "outputs": [
    {
     "name": "stdout",
     "output_type": "stream",
     "text": [
      "  Category                                            Message  labels\n",
      "0      ham  Go until jurong point, crazy.. Available only ...       0\n",
      "1      ham                      Ok lar... Joking wif u oni...       0\n",
      "2     spam  Free entry in 2 a wkly comp to win FA Cup fina...       1\n",
      "3      ham  U dun say so early hor... U c already then say...       0\n",
      "4      ham  Nah I don't think he goes to usf, he lives aro...       0\n"
     ]
    }
   ],
   "source": [
    "# We need to encode our categories into numerical data so that our model is able to use it\n",
    "\n",
    "df['labels'] = LabelEncoder().fit_transform(df['Category'])\n",
    "\n",
    "print(df.head())\n"
   ]
  },
  {
   "cell_type": "code",
   "execution_count": 10,
   "id": "3e06e934",
   "metadata": {},
   "outputs": [],
   "source": [
    "# Split data into training and test sets\n",
    "\n",
    "X = df['Message']\n",
    "y = df['labels']\n",
    "\n",
    "X_train, X_test, y_train, y_test = train_test_split(X, y, test_size=0.1, stratify = None)\n",
    "\n"
   ]
  },
  {
   "cell_type": "code",
   "execution_count": 11,
   "id": "b237731d",
   "metadata": {},
   "outputs": [],
   "source": [
    "\n",
    "# Initialize our vectorizer\n",
    "\n",
    "vectorizer = CountVectorizer()\n"
   ]
  },
  {
   "cell_type": "code",
   "execution_count": 12,
   "id": "6093be1d",
   "metadata": {},
   "outputs": [],
   "source": [
    "# Lets intitialize our Naive Bayes and our Dummy Classifier\n",
    "\n",
    "NB = MultinomialNB()\n",
    "NB.fit(vectorizer.fit_transform(X_train), y_train)\n",
    "\n",
    "Dummy = DummyClassifier(strategy = 'stratified')\n",
    "Dummy.fit(vectorizer.fit_transform(X_train), y_train);\n",
    "\n",
    "X_test_vector = vectorizer.transform(X_test)\n",
    "y_pred = NB.predict(X_test_vector)\n"
   ]
  },
  {
   "cell_type": "code",
   "execution_count": 13,
   "id": "176abef1",
   "metadata": {},
   "outputs": [],
   "source": [
    "# Now lets define a function to evaluate our classifiers\n",
    "\n",
    "def analyze_text(clf, vectorizer, test_text):\n",
    "    \"\"\"\n",
    "    This helper function takes in a classifier, vectorizer and text and returns a prediction.\n",
    "    Input: clf: Classifier Model, vectorizer: Vectorizer, test_text: a text passage \n",
    "    Output: Original test_text passage, the model's prediction\n",
    "    \"\"\"\n",
    "    prediction = clf.predict(vectorizer.transform([test_text]))\n",
    "    \n",
    "    return(test_text, prediction)\n"
   ]
  },
  {
   "cell_type": "code",
   "execution_count": 23,
   "id": "445b4b13",
   "metadata": {},
   "outputs": [
    {
     "name": "stdout",
     "output_type": "stream",
     "text": [
      "Model Info: MultinomialNB()\n",
      "Model Accuracy: 98.57%\n",
      "\n",
      "Model Info: DummyClassifier(strategy='stratified')\n",
      "Model Accuracy: 78.32%\n",
      "\n"
     ]
    }
   ],
   "source": [
    "def evaluate_model_accuracy(clf, test_text, test_result):\n",
    "    \"\"\"\n",
    "    This function runs the \"analyze_text\" function over each row in a test_text column and compares the output to\n",
    "        the test answers (\"test_result\" column)\n",
    "    Input: clf:classifier, test_text: column of test texts, test_result: column of correct class answers\n",
    "    Output: A formatted string for model accuracy (rounded to two decimal places) \n",
    "    \"\"\"\n",
    "\n",
    "    total = len(test_text)\n",
    "    num_correct = 0\n",
    "     \n",
    "    for index, item in enumerate(test_text):\n",
    "        text, result = analyze_text(clf, vectorizer, item)\n",
    "        if result == test_result.iloc[index]:\n",
    "            num_correct +=1 \n",
    "    \n",
    "    return_string = 'Model Info: ' + str(clf) + '\\nModel Accuracy: ' + str(round(num_correct * 100 / total, 2)) + '%\\n'\n",
    "    \n",
    "    print(return_string)\n",
    "    \n",
    "# Example usage:\n",
    "evaluate_model_accuracy(NB, X_test, y_test)\n",
    "evaluate_model_accuracy(Dummy, X_test, y_test)\n"
   ]
  },
  {
   "cell_type": "code",
   "execution_count": 24,
   "id": "814dd7ac",
   "metadata": {},
   "outputs": [
    {
     "name": "stdout",
     "output_type": "stream",
     "text": [
      "            Confusion Matrix\n"
     ]
    },
    {
     "name": "stderr",
     "output_type": "stream",
     "text": [
      "C:\\Users\\YA MAALIKUL MULK\\anaconda3\\lib\\site-packages\\sklearn\\utils\\deprecation.py:87: FutureWarning: Function plot_confusion_matrix is deprecated; Function `plot_confusion_matrix` is deprecated in 1.0 and will be removed in 1.2. Use one of the class methods: ConfusionMatrixDisplay.from_predictions or ConfusionMatrixDisplay.from_estimator.\n",
      "  warnings.warn(msg, category=FutureWarning)\n"
     ]
    },
    {
     "data": {
      "image/png": "[encoded data removed]",
      "text/plain": [
       "<Figure size 432x288 with 2 Axes>"
      ]
     },
     "metadata": {
      "needs_background": "light"
     },
     "output_type": "display_data"
    }
   ],
   "source": [
    "print(\"            Confusion Matrix\")\n",
    "plot_confusion_matrix(NB, X_test_vector, y_test);"
   ]
  },
  {
   "cell_type": "code",
   "execution_count": null,
   "id": "3671c5c5",
   "metadata": {},
   "outputs": [],
   "source": []
  }
 ],
 "metadata": {
  "kernelspec": {
   "display_name": "Python 3 (ipykernel)",
   "language": "python",
   "name": "python3"
  },
  "language_info": {
   "codemirror_mode": {
    "name": "ipython",
    "version": 3
   },
   "file_extension": ".py",
   "mimetype": "text/x-python",
   "name": "python",
   "nbconvert_exporter": "python",
   "pygments_lexer": "ipython3",
   "version": "3.9.12"
  }
 },
 "nbformat": 4,
 "nbformat_minor": 5
}
